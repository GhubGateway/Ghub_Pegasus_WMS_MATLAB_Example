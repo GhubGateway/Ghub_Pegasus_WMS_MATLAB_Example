{
 "cells": [
  {
   "cell_type": "code",
   "execution_count": 1,
   "metadata": {},
   "outputs": [],
   "source": [
    "#%load_ext autoreload\n",
    "#%autoreload 2"
   ]
  },
  {
   "cell_type": "markdown",
   "metadata": {},
   "source": [
    "# Build the MATLAB Executables\n",
    "\n",
    "- This notebook provides a mechanism to compile the MATLAB executables required by the ghubex3 tool.<br />\n",
    "\n",
    "- The MATLAB scripts in the ./src directory are compiled on CCR and the returned MATLAB executables are moved to the ./bin directory.<br />\n",
    "\n",
    "- The MATLAB executables are compiled on CCR using the MATLAB mcc function.<br />\n",
    "\n",
    "- Click the Run Workflow button to compile the MATLAB executables.<br />"
   ]
  },
  {
   "cell_type": "code",
   "execution_count": 2,
   "metadata": {},
   "outputs": [
    {
     "data": {
      "application/javascript": [
       "\n",
       "requirejs.undef('filepicker');\n",
       "\n",
       "define('filepicker', [\"@jupyter-widgets/base\"], function(widgets) {\n",
       "\n",
       "    var FilePickerView = widgets.DOMWidgetView.extend({\n",
       "        render: function(){\n",
       "            this.file = document.createElement('input');\n",
       "            this.file.setAttribute('class', 'fileinput');\n",
       "            this.file.setAttribute('id', this.cid);\n",
       "            this.file.multiple = this.model.get('multiple');\n",
       "            this.file.required = true;\n",
       "            this.file.setAttribute('type', 'file');\n",
       "            this.file.setAttribute('style', 'display:none');\n",
       "\n",
       "            this.label = document.createElement('label');\n",
       "            this.label.setAttribute('for', this.cid);\n",
       "            this.label.setAttribute('style', 'border: 1px solid; border-radius: 5px; display: inline-block; padding: 6px 12px');\n",
       "\n",
       "            this.icon = document.createElement('i');\n",
       "            this.icon.setAttribute(\"class\", \"fa fa-upload\");\n",
       "\n",
       "            if (this.file.multiple) {\n",
       "                this.labelstr = \"  Upload Files\";\n",
       "            } else {\n",
       "                this.labelstr = \"  Upload File\";\n",
       "            }\n",
       "            this.label.innerHTML = this.labelstr;\n",
       "            this.label.prepend(this.icon);\n",
       "            this.el.appendChild(this.label);\n",
       "            this.el.appendChild(this.file);\n",
       "            this.listenTo(this.model, 'change:send', this._send_changed, this);\n",
       "            this.listenTo(this.model, 'change:reset', this._reset, this);\n",
       "            this.update();\n",
       "        },\n",
       "\n",
       "        events: {\n",
       "            // List of events and their handlers.\n",
       "            'change': 'handle_file_change'\n",
       "        },\n",
       "\n",
       "        _reset: function() {\n",
       "            this.label.innerHTML = this.labelstr;\n",
       "            this.label.prepend(this.icon);\n",
       "            this.file.removeAttribute(\"disabled\");\n",
       "        },\n",
       "\n",
       "        _send_changed: function() {\n",
       "            var that = this;\n",
       "            var send = this.model.get('send');\n",
       "            var fnum = send[0];\n",
       "            var offset = send[1];\n",
       "            var chunk_size=64*1024;\n",
       "            var reader;\n",
       "\n",
       "            if (fnum == -1) {\n",
       "                // ignore\n",
       "                return\n",
       "            }\n",
       "\n",
       "            if (offset == 0) {\n",
       "                this.model.set('sent', -1);\n",
       "                this.touch();\n",
       "            }\n",
       "\n",
       "            // console.log('send: ' + fnum + ' ' + offset);\n",
       "            function tob64( buffer ) {\n",
       "                var binary = '';\n",
       "                var bytes = new Uint8Array( buffer );\n",
       "                var len = bytes.byteLength;\n",
       "                for (var i = 0; i < len; i++) {\n",
       "                    binary += String.fromCharCode( bytes[ i ] );\n",
       "                }\n",
       "                return window.btoa( binary );\n",
       "            }\n",
       "\n",
       "            var reader_done = function (event) {\n",
       "                // chunk is finished.  Send to python\n",
       "                if (event.target.error == null) {\n",
       "                    var b64 = tob64(event.target.result);\n",
       "                    that.model.set('data', b64);\n",
       "                    that.model.set('sent', offset);\n",
       "                    that.touch();\n",
       "                } else {\n",
       "                    console.log(\"Read error: \" + event.target.error);\n",
       "                    that.model.set('data', '');\n",
       "                    that.model.set('sent', -2);\n",
       "                    that.touch();\n",
       "                }\n",
       "                that.touch();\n",
       "            }\n",
       "        \n",
       "            var chunk_reader = function (_offset, _f) {\n",
       "                // console.log('CR' + ' ' + _f + ' ' + _offset);\n",
       "                reader = new FileReader();\n",
       "                var chunk = _f.slice(_offset, chunk_size + _offset);            \n",
       "                reader.readAsArrayBuffer(chunk);\n",
       "                reader.onload = reader_done;\n",
       "            }\n",
       "    \n",
       "            // OK. request next chunk\n",
       "            chunk_reader(offset, this.files[fnum]);\n",
       "        },\n",
       "        \n",
       "        \n",
       "        handle_file_change: function(evt) {\n",
       "\n",
       "            var _files = evt.target.files;\n",
       "            var filenames = [];\n",
       "            var file_readers = [];\n",
       "            this.files = [];\n",
       "\n",
       "            for (var i = 0; i < _files.length; i++) {\n",
       "                var file = _files[i];\n",
       "                console.log(\"Filename: \" + file.name);\n",
       "                console.log(\"Type: \" + file.type);\n",
       "                console.log(\"Size: \" + file.size + \" bytes\");\n",
       "                this.files.push(file);\n",
       "                filenames.push([file.name, file.size]);\n",
       "            };\n",
       "            \n",
       "            // Set the filenames of the files.\n",
       "            this.model.set('filenames', filenames);\n",
       "            this.touch();\n",
       "\n",
       "            // update the label\n",
       "            if (filenames.length == 0) {\n",
       "                this.label.innerHTML = this.labelstr;\n",
       "                this.file.removeAttribute(\"disabled\");\n",
       "            } else if (filenames.length == 1) {\n",
       "                this.label.innerHTML = \"  \" + filenames[0][0];\n",
       "                this.file.setAttribute('disabled', 'true');\n",
       "            } else {\n",
       "                this.label.innerHTML = \"  \" + filenames.length + \" files selected\";\n",
       "                this.file.setAttribute('disabled', 'true');           \n",
       "            };\n",
       "            this.label.prepend(this.icon);\n",
       "        },\n",
       "    });\n",
       "\n",
       "    // Register the FilePickerView with the widget manager.\n",
       "    return {\n",
       "        FilePickerView: FilePickerView\n",
       "    };\n",
       "});\n"
      ],
      "text/plain": [
       "<IPython.core.display.Javascript object>"
      ]
     },
     "metadata": {},
     "output_type": "display_data"
    }
   ],
   "source": [
    "import sys\n",
    "import os\n",
    "import getpass\n",
    "import platform\n",
    "import shutil\n",
    "import atexit\n",
    "import math\n",
    "import numpy as np\n",
    "import pandas as pd\n",
    "import time\n",
    "\n",
    "import ipywidgets as widgets\n",
    "from IPython.display import display, HTML, Markdown, clear_output, Image, Javascript\n",
    "#import xml.etree.ElementTree as et\n",
    "\n",
    "import hublib\n",
    "#print (help(hublib))\n",
    "import hublib.ui as ui\n",
    "#print (help(ui))\n",
    "import hublib.use\n",
    "#print (help(hublib.use))\n",
    "\n",
    "# Setup paths to executables\n",
    "scriptpath = os.path.realpath(\" \")\n",
    "        \n",
    "# Get the parent dirs\n",
    "self_tooldir = os.path.dirname(scriptpath)\n",
    "\n",
    "# Setup path to python and bash scripts\n",
    "self_srcdir = os.path.join(self_tooldir, \"src\")\n",
    "\n",
    "# Setup path to python and bash scripts\n",
    "self_bindir = os.path.join(self_tooldir, \"bin\")\n",
    "\n",
    "# Add to PYTHONPATH\n",
    "sys.path.insert (1, self_bindir)\n",
    "\n",
    "# Set up path to the current data directory\n",
    "self_datadir = os.path.join(self_tooldir, \"data\")\n",
    "\n",
    "# Set up path to the current doc directory\n",
    "self_docdir = os.path.join(self_tooldir, \"doc\")\n",
    "\n",
    "# Set up path to the current session directory\n",
    "self_workingdir = os.getcwd()\n",
    "\n",
    "# Set up path to the user's home directory\n",
    "self_homedir = os.path.expanduser(\"~\")\n",
    "\n",
    "# Initialize the dated run directory.\n",
    "# Workflow results are not available until after a workflow is executed via Pegasus and completes\n",
    "self_rundir = \"\"\n",
    "\n",
    "self_user = getpass.getuser()\n",
    "\n",
    "# Version of Pegasus\n",
    "# Note: when switching the version of Pegasus, delete ~/.pegasus/workflow.db\n",
    "%use pegasus-5.0.1\n",
    "from buildWrapper import buildWrapper\n",
    "\n",
    "widget_border_style = '1px solid black'\n",
    "widget_output_border_style = '1px solid black'\n",
    "\n",
    "BOLD = '\\033[1m'\n",
    "SUCCESS = '\\033[92m'\n",
    "WARNING = '\\033[93m'\n",
    "FAIL = '\\033[91m'\n",
    "END = '\\033[0m'\n",
    "\n",
    "dropdown_str_width = 16\n",
    "\n",
    "dropdown_width = '965px'\n",
    "dropdown_height = '30px'\n",
    "button_width = '250px'\n",
    "button_height = '40px'\n",
    "ui_string_width = '96.5%'\n",
    "ui_dropdown_width = '96.2%'\n",
    "\n",
    "#print ('os.access(self_tooldir, os.W_OK): ', os.access(self_bindir, os.W_OK))\n"
   ]
  },
  {
   "cell_type": "code",
   "execution_count": 3,
   "metadata": {},
   "outputs": [],
   "source": [
    "#https://stackoverflow.com/questions/36757301/disable-ipython-notebook-autoscrolling"
   ]
  },
  {
   "cell_type": "code",
   "execution_count": 4,
   "metadata": {},
   "outputs": [
    {
     "data": {
      "application/javascript": [
       "IPython.OutputArea.prototype._should_scroll = function(lines) {\n",
       "    return false;\n",
       "}\n"
      ],
      "text/plain": [
       "<IPython.core.display.Javascript object>"
      ]
     },
     "metadata": {},
     "output_type": "display_data"
    }
   ],
   "source": [
    "%%javascript\n",
    "IPython.OutputArea.prototype._should_scroll = function(lines) {\n",
    "    return false;\n",
    "}\n"
   ]
  },
  {
   "cell_type": "code",
   "execution_count": 5,
   "metadata": {},
   "outputs": [
    {
     "data": {
      "text/html": [
       "\n",
       "<script>\n",
       "    function scroll_to_top() {\n",
       "        Jupyter.notebook.scroll_to_top();\n",
       "    } \n",
       "    $( window ).on( \"load\", scroll_to_top() );\n",
       "</script>\n"
      ],
      "text/plain": [
       "<IPython.core.display.HTML object>"
      ]
     },
     "execution_count": 5,
     "metadata": {},
     "output_type": "execute_result"
    }
   ],
   "source": [
    "#https://api.jquery.com/ready/\n",
    "HTML('''\n",
    "<script>\n",
    "    function scroll_to_top() {\n",
    "        Jupyter.notebook.scroll_to_top();\n",
    "    } \n",
    "    $( window ).on( \"load\", scroll_to_top() );\n",
    "</script>\n",
    "''')"
   ]
  },
  {
   "cell_type": "code",
   "execution_count": 6,
   "metadata": {},
   "outputs": [
    {
     "data": {
      "text/html": [
       "\n",
       "<style>.buttontextclass { color:black ; font-size:130%}</style>\n"
      ],
      "text/plain": [
       "<IPython.core.display.HTML object>"
      ]
     },
     "execution_count": 6,
     "metadata": {},
     "output_type": "execute_result"
    }
   ],
   "source": [
    "# Button styles\n",
    "HTML('''\n",
    "<style>.buttontextclass { color:black ; font-size:130%}</style>\n",
    "''')"
   ]
  },
  {
   "cell_type": "code",
   "execution_count": 7,
   "metadata": {},
   "outputs": [],
   "source": [
    "#tooldir = os.path.dirname(os.path.dirname(os.path.realpath(os.path.abspath(__file__))))\n",
    "#print ('tooldir: ', tooldir)\n"
   ]
  },
  {
   "cell_type": "code",
   "execution_count": 8,
   "metadata": {},
   "outputs": [],
   "source": [
    " # Run Workflow\n",
    "\n",
    "maxwalltime = ui.Number(\n",
    "    name = 'Maximum Walltime',\n",
    "    description = 'Maximum Walltime [min]',\n",
    "    units = 'min',\n",
    "    value = '30.0',\n",
    "    min = '5.0',\n",
    "    max = '60.0'\n",
    ")\n",
    "\n",
    "workflow_run_options_form = ui.Form([maxwalltime], name = 'Workflow Run Options')\n",
    "\n",
    "def run_workflow(p):\n",
    "    \n",
    "    # print (p) #Button\n",
    "    #global self_workflow_succeeded\n",
    "    #self_workflow_succeeded = False\n",
    "        \n",
    "    workflow_progress.clear_output()\n",
    "    #workflow_results.clear_output()\n",
    "        \n",
    "    with workflow_progress:\n",
    "        \n",
    "        runWorkflowButton.disabled = True\n",
    "        #show_log_output_button.disabled = True\n",
    "        \n",
    "        start_time = time.time()\n",
    "        \n",
    "        try:\n",
    "            \n",
    "            # All MATLAB scripts in the src directory will be copied to vortex for compiling the MATLAB exeutables.\n",
    "            # The matlabBuild.sh script in the remotebin directory contains specific instructions for compiling the MATLAB executables\n",
    "            \n",
    "            # Returned compiled MATLAB executables\n",
    "            binfiles = ['deg2utm', 'utm2deg']\n",
    "\n",
    "            for i in range(len(binfiles)):\n",
    "\n",
    "                binfile = binfiles[i]\n",
    "                binfilepath = os.path.join(self_bindir, binfile)\n",
    "                if os.path.exists(binfilepath):\n",
    "                        print ('removing %s.' %binfilepath)\n",
    "                        os.remove(binfilepath)\n",
    "                \n",
    "            #Note: Workflow execution time depends on the current UB CCR workload.\n",
    "            print (\"Pegasus workflow in progress. This will take approximately 10 minutes...\")\n",
    "            \n",
    "            #'''\n",
    "            buildWrapper (\" \", \\\n",
    "                self_workingdir, binfiles, int(maxwalltime.value))\n",
    "            #'''\n",
    "            \n",
    "            print ('\\nWorkflow elapsed time: ' + str((time.time() - start_time)/60.0) + ' [min]\\n')\n",
    "            \n",
    "            # Check if the results files were created and transferred from CCR \n",
    "            # to determine if workflow completed successfully\n",
    "            \n",
    "            workflow_completed_successfully = True\n",
    "            for i in range (len(binfiles)):\n",
    "                binfile = binfiles[i]\n",
    "                binfilepath = os.path.join(self_bindir, binfile)\n",
    "                if os.path.exists(binfile) == True:\n",
    "                    shutil.move(binfile, binfilepath)\n",
    "                else:\n",
    "                    print ('%s not generated by the workflow.' %binfile)\n",
    "                    workflow_completed_successfully = False\n",
    "\n",
    "            if workflow_completed_successfully:\n",
    "\n",
    "                print ('Workflow completed successfully\\n')\n",
    "                        \n",
    "            else:\n",
    "\n",
    "                print ('\\nWorkflow did not complete successfully')\n",
    "\n",
    "                filepath = os.path.join(self_workingdir, 'pegasus.analysis')\n",
    "                if (os.path.exists(filepath)):\n",
    "                    print (\"pegasus.analysis:\\n\")\n",
    "                    f = open(filepath, 'r')\n",
    "                    output = f.read()\n",
    "                    f.close()\n",
    "                    print (output)\n",
    "       \n",
    "            #finish_workflow_processing()\n",
    "        \n",
    "        except Exception as e:\n",
    "        \n",
    "            print ('Workflow Exception: %s\\n' %str(e))\n",
    "       \n",
    "        runWorkflowButton.disabled = False\n",
    "        #show_log_output_button.disabled = False\n",
    "\n",
    "\n",
    "# Abort\n",
    "# Select Kernel Interrupt\n",
    "#if self_tW.is_alive() == True:\n",
    "   #self_tW.terminate()\n",
    "\n",
    "runWorkflowButton = widgets.Button(description=\"Run Workflow\", disabled=False,\\\n",
    "    layout=widgets.Layout(width=button_width, height=button_height),\\\n",
    "    style= {'button_color':'lightgreen','font_weight':'bold'})\n",
    "runWorkflowButton.add_class(\"buttontextclass\")\n",
    "runWorkflowButton.on_click (run_workflow)\n",
    "#help (runWorkflowButton)\n",
    "\n",
    "# Note: See /apps/share64/debian7/anaconda/anaconda-6/lib/python3.7/site-packages/hublib/ui/pathselect.py,\n",
    "# file property initialized to None, when a file is selected gets set to the selected file.\n"
   ]
  },
  {
   "cell_type": "code",
   "execution_count": 9,
   "metadata": {},
   "outputs": [
    {
     "data": {
      "application/vnd.jupyter.widget-view+json": {
       "model_id": "21310486d8eb4cd1817ee54d094ea033",
       "version_major": 2,
       "version_minor": 0
      },
      "text/plain": [
       "Group(children=(HTML(value=\"<p   style='background-color: #DCDCDC; font-size: 150%; padding: 5px'>Workflow Run…"
      ]
     },
     "metadata": {},
     "output_type": "display_data"
    },
    {
     "data": {
      "application/vnd.jupyter.widget-view+json": {
       "model_id": "46b4fba10a554322a55b00818bac4bc4",
       "version_major": 2,
       "version_minor": 0
      },
      "text/plain": [
       "Button(description='Run Workflow', layout=Layout(height='40px', width='250px'), style=ButtonStyle(button_color…"
      ]
     },
     "metadata": {},
     "output_type": "display_data"
    }
   ],
   "source": [
    "display(workflow_run_options_form)\n",
    "display(runWorkflowButton)"
   ]
  },
  {
   "cell_type": "code",
   "execution_count": 10,
   "metadata": {},
   "outputs": [
    {
     "data": {
      "application/vnd.jupyter.widget-view+json": {
       "model_id": "64cf70e1e7704c5c97a74742bb6eebc3",
       "version_major": 2,
       "version_minor": 0
      },
      "text/plain": [
       "Output(layout=Layout(border='1px solid black'))"
      ]
     },
     "metadata": {},
     "output_type": "display_data"
    }
   ],
   "source": [
    "workflow_progress = widgets.Output(layout={'border': '1px solid black'})\n",
    "display(workflow_progress)"
   ]
  }
 ],
 "metadata": {
  "kernelspec": {
   "display_name": "Python 3 (ipykernel)",
   "language": "python",
   "name": "python3"
  },
  "language_info": {
   "codemirror_mode": {
    "name": "ipython",
    "version": 3
   },
   "file_extension": ".py",
   "mimetype": "text/x-python",
   "name": "python",
   "nbconvert_exporter": "python",
   "pygments_lexer": "ipython3",
   "version": "3.8.15"
  }
 },
 "nbformat": 4,
 "nbformat_minor": 1
}
